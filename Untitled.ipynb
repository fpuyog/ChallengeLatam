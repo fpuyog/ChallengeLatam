{
 "cells": [
  {
   "cell_type": "code",
   "execution_count": 19,
   "id": "cbee6212-fed8-4215-acd5-4ff8247266dd",
   "metadata": {},
   "outputs": [],
   "source": [
    "#Configuración del entorno\n",
    "import os\n",
    "import sys\n",
    "import time\n",
    "import tracemalloc\n",
    "from memory_profiler import memory_usage\n",
    "from src.q1_time import q1_time\n",
    "from src.q1_memory import q1_memory\n",
    "from src.q2_time import q2_time\n",
    "from src.q2_memory import q2_memory\n",
    "from src.q3_time import q3_time\n",
    "from src.q3_memory import q3_memory\n",
    "import src.download_json  # Descargar el archivo JSON si no está presente"
   ]
  },
  {
   "cell_type": "code",
   "execution_count": 2,
   "id": "a5e1dc0a-a493-4815-9502-b660d7f4a7a9",
   "metadata": {},
   "outputs": [
    {
     "name": "stdout",
     "output_type": "stream",
     "text": [
      "Archivo JSON encontrado en: D:\\Users\\Checo\\Documentos\\GitHub\\ChallengeLatam\\data.json\n"
     ]
    }
   ],
   "source": [
    "# Definir la ruta al archivo JSON\n",
    "json_path = os.path.join(os.getcwd(), 'data.json')\n",
    "\n",
    "# Descargar el archivo si no existe\n",
    "if not os.path.exists(json_path):\n",
    "    print(\"Descargando archivo JSON...\")\n",
    "    src.download_json  # Este script descarga automáticamente el archivo\n",
    "else:\n",
    "    print(f\"Archivo JSON encontrado en: {json_path}\")"
   ]
  },
  {
   "cell_type": "code",
   "execution_count": 11,
   "id": "60943597-145c-4dcf-9445-819b7aa98a1a",
   "metadata": {},
   "outputs": [],
   "source": []
  },
  {
   "cell_type": "code",
   "execution_count": 16,
   "id": "38a7e276-09c7-4430-81da-07dd3835a297",
   "metadata": {},
   "outputs": [
    {
     "name": "stdout",
     "output_type": "stream",
     "text": [
      "\n",
      "Ejecutando Q1 (time)...\n"
     ]
    },
    {
     "ename": "NameError",
     "evalue": "name 'memory_usage' is not defined",
     "output_type": "error",
     "traceback": [
      "\u001b[1;31m---------------------------------------------------------------------------\u001b[0m",
      "\u001b[1;31mNameError\u001b[0m                                 Traceback (most recent call last)",
      "Cell \u001b[1;32mIn[16], line 7\u001b[0m\n\u001b[0;32m      5\u001b[0m end_time \u001b[38;5;241m=\u001b[39m time\u001b[38;5;241m.\u001b[39mtime()\n\u001b[0;32m      6\u001b[0m exec_time \u001b[38;5;241m=\u001b[39m end_time \u001b[38;5;241m-\u001b[39m start_time\n\u001b[1;32m----> 7\u001b[0m mem_usage \u001b[38;5;241m=\u001b[39m \u001b[43mmemory_usage\u001b[49m((q1_time, (json_path,)), max_usage\u001b[38;5;241m=\u001b[39m\u001b[38;5;28;01mTrue\u001b[39;00m)[\u001b[38;5;241m0\u001b[39m]\n\u001b[0;32m      8\u001b[0m results\u001b[38;5;241m.\u001b[39mappend([\u001b[38;5;124m\"\u001b[39m\u001b[38;5;124mQ1 (time)\u001b[39m\u001b[38;5;124m\"\u001b[39m, \u001b[38;5;124mf\u001b[39m\u001b[38;5;124m\"\u001b[39m\u001b[38;5;132;01m{\u001b[39;00mexec_time\u001b[38;5;132;01m:\u001b[39;00m\u001b[38;5;124m.2f\u001b[39m\u001b[38;5;132;01m}\u001b[39;00m\u001b[38;5;124m s\u001b[39m\u001b[38;5;124m\"\u001b[39m, \u001b[38;5;124mf\u001b[39m\u001b[38;5;124m\"\u001b[39m\u001b[38;5;132;01m{\u001b[39;00mmem_usage\u001b[38;5;132;01m:\u001b[39;00m\u001b[38;5;124m.2f\u001b[39m\u001b[38;5;132;01m}\u001b[39;00m\u001b[38;5;124m MB\u001b[39m\u001b[38;5;124m\"\u001b[39m])\n\u001b[0;32m      9\u001b[0m \u001b[38;5;28mprint\u001b[39m(\u001b[38;5;124mf\u001b[39m\u001b[38;5;124m\"\u001b[39m\u001b[38;5;124mResultado Q1 (time): \u001b[39m\u001b[38;5;132;01m{\u001b[39;00mresult_q1_time\u001b[38;5;132;01m}\u001b[39;00m\u001b[38;5;124m\"\u001b[39m)\n",
      "\u001b[1;31mNameError\u001b[0m: name 'memory_usage' is not defined"
     ]
    }
   ],
   "source": []
  },
  {
   "cell_type": "code",
   "execution_count": 6,
   "id": "fec8cadb-5be0-4695-935e-2a0f09659abd",
   "metadata": {},
   "outputs": [
    {
     "name": "stdout",
     "output_type": "stream",
     "text": [
      "Resultado Q1 (memory): [('jot__b', 1019), ('rebelpacifist', 850), ('MaanDee08215437', 830), ('Gurpreetd86', 636), ('GurmVicky', 597), ('shells_n_petals', 576), ('preetysaini321', 573), ('ish_kayy', 515), ('KaurDosanjh1979', 512), ('DigitalKisanBot', 490)]\n",
      "Memoria utilizada: 0.02 MB; Pico: 3328.68 MB\n"
     ]
    }
   ],
   "source": [
    "#Ejecucion q2_memory.py\n",
    "tracemalloc.start()\n",
    "result_q1_memory = q1_memory(json_path)\n",
    "current, peak = tracemalloc.get_traced_memory()\n",
    "tracemalloc.stop()\n",
    "\n",
    "print(f\"Resultado Q1 (memory): {result_q1_memory}\")\n",
    "print(f\"Memoria utilizada: {current / 10**6:.2f} MB; Pico: {peak / 10**6:.2f} MB\")"
   ]
  },
  {
   "cell_type": "code",
   "execution_count": 7,
   "id": "12910ae4-090e-44c8-ba46-7d2f8f33b739",
   "metadata": {},
   "outputs": [
    {
     "name": "stdout",
     "output_type": "stream",
     "text": [
      "Resultado Q2 (time): [(datetime.date(2021, 2, 12), 12347), (datetime.date(2021, 2, 13), 11296), (datetime.date(2021, 2, 17), 11087), (datetime.date(2021, 2, 16), 10443), (datetime.date(2021, 2, 14), 10249), (datetime.date(2021, 2, 18), 9625), (datetime.date(2021, 2, 15), 9197), (datetime.date(2021, 2, 20), 8502), (datetime.date(2021, 2, 23), 8417), (datetime.date(2021, 2, 19), 8204)]\n",
      "Tiempo de ejecución: 10.36 segundos\n"
     ]
    }
   ],
   "source": [
    "#Ejecución q2_time.py\n",
    "start_time = time.time()\n",
    "result_q2_time = q2_time(json_path)\n",
    "end_time = time.time()\n",
    "\n",
    "print(f\"Resultado Q2 (time): {result_q2_time}\")\n",
    "print(f\"Tiempo de ejecución: {end_time - start_time:.2f} segundos\")"
   ]
  },
  {
   "cell_type": "code",
   "execution_count": 8,
   "id": "dcabfd96-f4e4-424f-99a4-99a40c143b31",
   "metadata": {},
   "outputs": [
    {
     "name": "stdout",
     "output_type": "stream",
     "text": [
      "Resultado Q2 (memory): [('2021-02-12', 12347), ('2021-02-13', 11296), ('2021-02-17', 11087), ('2021-02-16', 10443), ('2021-02-14', 10249), ('2021-02-18', 9625), ('2021-02-15', 9197), ('2021-02-20', 8502), ('2021-02-23', 8417), ('2021-02-19', 8204)]\n",
      "Memoria utilizada: 0.01 MB; Pico: 0.17 MB\n"
     ]
    }
   ],
   "source": [
    "#Ejecucion q2_memory.py\n",
    "tracemalloc.start()\n",
    "result_q2_memory = q2_memory(json_path)\n",
    "current, peak = tracemalloc.get_traced_memory()\n",
    "tracemalloc.stop()\n",
    "\n",
    "print(f\"Resultado Q2 (memory): {result_q2_memory}\")\n",
    "print(f\"Memoria utilizada: {current / 10**6:.2f} MB; Pico: {peak / 10**6:.2f} MB\")"
   ]
  },
  {
   "cell_type": "code",
   "execution_count": 9,
   "id": "363bafbb-7f6c-48f1-b54a-14a7cf043ebf",
   "metadata": {},
   "outputs": [
    {
     "name": "stdout",
     "output_type": "stream",
     "text": [
      "Tiempo de ejecución: 12.12 segundos\n",
      "Resultado Q3 (time): [('farmersprotest', 119479), ('t', 83776), ('co', 79025), ('https', 78975), ('क', 65858), ('न', 36887), ('स', 36793), ('र', 32584), ('the', 32255), ('ह', 29300)]\n",
      "Tiempo de ejecución: 12.13 segundos\n"
     ]
    }
   ],
   "source": [
    "#Ejecución q3_time.py\n",
    "start_time = time.time()\n",
    "result_q3_time = q3_time(json_path)\n",
    "end_time = time.time()\n",
    "\n",
    "print(f\"Resultado Q3 (time): {result_q3_time}\")\n",
    "print(f\"Tiempo de ejecución: {end_time - start_time:.2f} segundos\")"
   ]
  },
  {
   "cell_type": "code",
   "execution_count": 10,
   "id": "9f2ab184-65b6-4508-93b7-11b29442486d",
   "metadata": {},
   "outputs": [
    {
     "name": "stdout",
     "output_type": "stream",
     "text": [
      "Resultado Q3 (memory): [('farmersprotest', 119479), ('t', 83776), ('co', 79025), ('https', 78975), ('क', 65858), ('न', 36887), ('स', 36793), ('र', 32584), ('the', 32255), ('ह', 29300)]\n",
      "Memoria utilizada: 0.07 MB; Pico: 50.04 MB\n"
     ]
    }
   ],
   "source": [
    "#Ejecucion q3_memory.py\n",
    "tracemalloc.start()\n",
    "result_q3_memory = q3_memory(json_path)\n",
    "current, peak = tracemalloc.get_traced_memory()\n",
    "tracemalloc.stop()\n",
    "\n",
    "print(f\"Resultado Q3 (memory): {result_q3_memory}\")\n",
    "print(f\"Memoria utilizada: {current / 10**6:.2f} MB; Pico: {peak / 10**6:.2f} MB\")"
   ]
  },
  {
   "cell_type": "code",
   "execution_count": 21,
   "id": "ff0cf2ec-ef7f-41a6-9167-758e56442a06",
   "metadata": {},
   "outputs": [
    {
     "name": "stdout",
     "output_type": "stream",
     "text": [
      "Iniciando pruebas de tiempo y memoria...\n",
      "\n",
      "Ejecutando: Q1 (time)...\n"
     ]
    },
    {
     "ename": "NameError",
     "evalue": "name 'peak_memory' is not defined",
     "output_type": "error",
     "traceback": [
      "\u001b[1;31m---------------------------------------------------------------------------\u001b[0m",
      "\u001b[1;31mNameError\u001b[0m                                 Traceback (most recent call last)",
      "Cell \u001b[1;32mIn[21], line 30\u001b[0m\n\u001b[0;32m     27\u001b[0m     mem_usage \u001b[38;5;241m=\u001b[39m memory_usage((q1_time, (json_path,)), max_usage\u001b[38;5;241m=\u001b[39m\u001b[38;5;28;01mTrue\u001b[39;00m)\n\u001b[0;32m     29\u001b[0m     \u001b[38;5;66;03m# Almacenar resultados\u001b[39;00m\n\u001b[1;32m---> 30\u001b[0m     results\u001b[38;5;241m.\u001b[39mappend([test_name, \u001b[38;5;124mf\u001b[39m\u001b[38;5;124m\"\u001b[39m\u001b[38;5;132;01m{\u001b[39;00mexec_time\u001b[38;5;132;01m:\u001b[39;00m\u001b[38;5;124m.2f\u001b[39m\u001b[38;5;132;01m}\u001b[39;00m\u001b[38;5;124m s\u001b[39m\u001b[38;5;124m\"\u001b[39m, \u001b[38;5;124mf\u001b[39m\u001b[38;5;124m\"\u001b[39m\u001b[38;5;132;01m{\u001b[39;00m\u001b[43mpeak_memory\u001b[49m\u001b[38;5;132;01m:\u001b[39;00m\u001b[38;5;124m.2f\u001b[39m\u001b[38;5;132;01m}\u001b[39;00m\u001b[38;5;124m MB\u001b[39m\u001b[38;5;124m\"\u001b[39m])\n\u001b[0;32m     31\u001b[0m     \u001b[38;5;28mprint\u001b[39m(\u001b[38;5;124mf\u001b[39m\u001b[38;5;124m\"\u001b[39m\u001b[38;5;124mCompletado: \u001b[39m\u001b[38;5;132;01m{\u001b[39;00mtest_name\u001b[38;5;132;01m}\u001b[39;00m\u001b[38;5;130;01m\\n\u001b[39;00m\u001b[38;5;124m\"\u001b[39m)\n\u001b[0;32m     33\u001b[0m \u001b[38;5;66;03m# Generar tabla con tabulate\u001b[39;00m\n",
      "\u001b[1;31mNameError\u001b[0m: name 'peak_memory' is not defined"
     ]
    }
   ],
   "source": [
    "# Lista de pruebas a realizar\n",
    "tests = [\n",
    "    (\"Q1 (time)\", q1_time),\n",
    "    (\"Q1 (memory)\", q1_memory),\n",
    "    (\"Q2 (time)\", q2_time),\n",
    "    (\"Q2 (memory)\", q2_memory),\n",
    "    (\"Q3 (time)\", q3_time),\n",
    "    (\"Q3 (memory)\", q3_memory),\n",
    "]\n",
    "\n",
    "# Lista para almacenar resultados\n",
    "results = []\n",
    "\n",
    "print(\"Iniciando pruebas de tiempo y memoria...\\n\")\n",
    "\n",
    "# Ejecutar cada prueba y registrar resultados\n",
    "for test_name, test_function in tests:\n",
    "    print(f\"Ejecutando: {test_name}...\")\n",
    "        \n",
    "    # Medir tiempo de ejecución\n",
    "    start_time = time.time()\n",
    "    mem_usage = memory_usage((test_function, (json_path,)), max_usage=True)\n",
    "    end_time = time.time()\n",
    "\n",
    "    # Calcular tiempo y memoria\n",
    "    exec_time = end_time - start_time\n",
    "    mem_usage = memory_usage((q1_time, (json_path,)), max_usage=True)\n",
    "\n",
    "    # Almacenar resultados\n",
    "    results.append([test_name, f\"{exec_time:.2f} s\", f\"{peak_memory:.2f} MB\"])\n",
    "    print(f\"Completado: {test_name}\\n\")\n",
    "\n",
    "# Generar tabla con tabulate\n",
    "headers = [\"Prueba\", \"Tiempo de ejecución\", \"Memoria pico\"]\n",
    "table = tabulate(results, headers=headers, tablefmt=\"github\")\n",
    "\n",
    "# Mostrar tabla\n",
    "print(\"\\nResultados de las pruebas:\")\n",
    "print(table)"
   ]
  },
  {
   "cell_type": "code",
   "execution_count": null,
   "id": "a4a66dc0-b13b-47c4-a93a-94425ce0f23c",
   "metadata": {},
   "outputs": [],
   "source": []
  }
 ],
 "metadata": {
  "kernelspec": {
   "display_name": "Python 3 (ipykernel)",
   "language": "python",
   "name": "python3"
  },
  "language_info": {
   "codemirror_mode": {
    "name": "ipython",
    "version": 3
   },
   "file_extension": ".py",
   "mimetype": "text/x-python",
   "name": "python",
   "nbconvert_exporter": "python",
   "pygments_lexer": "ipython3",
   "version": "3.11.9"
  }
 },
 "nbformat": 4,
 "nbformat_minor": 5
}
